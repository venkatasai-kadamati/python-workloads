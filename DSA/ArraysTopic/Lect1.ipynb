{
 "cells": [
  {
   "cell_type": "markdown",
   "id": "511ffa4c917d7e82",
   "metadata": {
    "ExecuteTime": {
     "end_time": "2025-09-14T19:29:57.555548Z",
     "start_time": "2025-09-14T19:29:57.553052Z"
    }
   },
   "source": [
    "### Array Basics - What is the maximum size of an array in python vs java?\n",
    "\n",
    "Theory - but important to understand how the memory works in different languages.\n"
   ]
  },
  {
   "metadata": {
    "ExecuteTime": {
     "end_time": "2025-09-14T20:22:53.525582Z",
     "start_time": "2025-09-14T20:22:53.519016Z"
    }
   },
   "cell_type": "code",
   "source": [
    "import sys\n",
    "\n",
    "\"\"\"\"\n",
    "Global vs Local Arrays and Memory Limits\n",
    "\n",
    "Summary\n",
    "-------\n",
    "- Create one \"global\" array and another inside a main() function, and test their maximum feasible sizes.\n",
    "- Explain why C/C++ can often allocate ~1e6 elements on the stack (inside main) but ~1e7 when defined globally (data segment/heap), and why this distinction does not apply to Python.\n",
    "\n",
    "Notes\n",
    "-----\n",
    "C/C++:\n",
    "    - Local arrays inside main() are typically allocated on the thread's stack.\n",
    "      A common default stack size is ~8 MB.\n",
    "      An int array of size 1e6 uses ~4 MB (assuming 4 bytes/int), which fits;\n",
    "      a size of 1e7 uses ~40 MB, which typically overflows the stack.\n",
    "    - Global/static arrays live in the data segment (or behave heap-like), not constrained\n",
    "      by the small per-thread stack limit, so larger arrays (e.g., 1e7 ints) can work\n",
    "      if total process memory allows.\n",
    "\n",
    "Python:\n",
    "    - Lists and NumPy arrays are heap-allocated objects.\n",
    "      Whether created \"globally\" or inside a function has no stack-size limit effect.\n",
    "      Maximum feasible size depends on available heap/virtual memory and the allocator.\n",
    "    - Practically, allocating a large int32 NumPy array globally vs inside main()\n",
    "      shows no fundamental difference in feasibility.\n",
    "\"\"\"\n"
   ],
   "id": "c6611aa65d1a9d2d",
   "outputs": [],
   "execution_count": 13
  },
  {
   "cell_type": "markdown",
   "id": "eddca54251cba994",
   "metadata": {},
   "source": "### Accessing an array element and its address\n"
  },
  {
   "metadata": {},
   "cell_type": "markdown",
   "source": "#### Address",
   "id": "1c5da3f71dc76638"
  },
  {
   "cell_type": "code",
   "id": "bf7f6b65",
   "metadata": {
    "ExecuteTime": {
     "end_time": "2025-09-14T20:01:54.405127Z",
     "start_time": "2025-09-14T20:01:54.399916Z"
    }
   },
   "source": [
    "# creating a simple list (array)\n",
    "arr = [1,2,3]\n",
    "\n",
    "# id -> helps us with the object address\n",
    "print(id(arr))\n",
    "\n",
    "# printing the address of each element present in arr\n",
    "for elem in arr: \n",
    "    print(id(elem))\n",
    "\n",
    "\n",
    "# ? insight - notice that address arr is completely different from its element address. This is because arr is a variable that points to the block of elements.\n",
    "# -- arr variable [000x] --> points --> [13x, 14x, 15x]\n"
   ],
   "outputs": [
    {
     "name": "stdout",
     "output_type": "stream",
     "text": [
      "2207943399168\n",
      "140729531134888\n",
      "140729531134920\n",
      "140729531134952\n"
     ]
    }
   ],
   "execution_count": 2
  },
  {
   "metadata": {},
   "cell_type": "markdown",
   "source": "#### Accessing elements",
   "id": "e4a056d105a3ed44"
  },
  {
   "metadata": {
    "ExecuteTime": {
     "end_time": "2025-09-14T20:14:08.480559Z",
     "start_time": "2025-09-14T20:14:08.460755Z"
    }
   },
   "cell_type": "code",
   "source": [
    "# sample list (array)\n",
    "arr = [10,20,30,40,50]\n",
    "\n",
    "'''\n",
    "options available\n",
    "    1. iterator\n",
    "    2. enumerate\n",
    "    3. index + range(len)\n",
    "'''\n",
    "\n",
    "# 1. iterator\n",
    "for elem in arr:\n",
    "    print(elem)\n",
    "\n",
    "# 2. enumerate\n",
    "for index, elem in enumerate(arr):\n",
    "    print(f\"index: {index}, element: {elem}\")\n",
    "\n",
    "\n",
    "# 3. index + range(len)\n",
    "for idx in range(len(arr)):\n",
    "    print(idx, arr[idx])"
   ],
   "id": "df6b31f5668707d2",
   "outputs": [
    {
     "name": "stdout",
     "output_type": "stream",
     "text": [
      "==========\n",
      "10\n",
      "20\n",
      "30\n",
      "40\n",
      "50\n",
      "using enumerate\n",
      "index: 0, element: 10\n",
      "index: 1, element: 20\n",
      "index: 2, element: 30\n",
      "index: 3, element: 40\n",
      "index: 4, element: 50\n",
      "using index + range(len)\n",
      "0 10\n",
      "1 20\n",
      "2 30\n",
      "3 40\n",
      "4 50\n"
     ]
    }
   ],
   "execution_count": 5
  },
  {
   "metadata": {
    "ExecuteTime": {
     "end_time": "2025-09-14T20:27:07.407963Z",
     "start_time": "2025-09-14T20:27:07.404183Z"
    }
   },
   "cell_type": "markdown",
   "source": "# Problems",
   "id": "94419be9b35ac632"
  },
  {
   "metadata": {},
   "cell_type": "markdown",
   "source": [
    "## Largest element in an array\n",
    "\n",
    "> arr = [1,2,3,4]\n",
    "\n",
    "output: the largest is 4 in arr."
   ],
   "id": "a4936e32b192a5b3"
  },
  {
   "metadata": {
    "ExecuteTime": {
     "end_time": "2025-09-14T20:31:13.384564Z",
     "start_time": "2025-09-14T20:31:13.380658Z"
    }
   },
   "cell_type": "markdown",
   "source": "### Brute Force",
   "id": "8685e5b4f771927e"
  },
  {
   "metadata": {
    "ExecuteTime": {
     "end_time": "2025-09-14T20:40:38.270931Z",
     "start_time": "2025-09-14T20:40:38.261707Z"
    }
   },
   "cell_type": "code",
   "source": [
    "arr = [1,2,5,11,12,7]\n",
    "\n",
    "# idea: iterate over each element + track max\n",
    "\"\"\"\n",
    "Tc -> O(n)\n",
    "Sc -> O(1)\n",
    "\"\"\"\n",
    "\n",
    "max_val = -sys.maxsize - 1\n",
    "\n",
    "for elem in arr:\n",
    "    if max_val < elem:\n",
    "        max_val = elem\n",
    "\n",
    "print(\"largest elem is: \", max_val)"
   ],
   "id": "47b092dd95d95d74",
   "outputs": [
    {
     "name": "stdout",
     "output_type": "stream",
     "text": [
      "largest elem is:  12\n"
     ]
    }
   ],
   "execution_count": 21
  },
  {
   "metadata": {
    "ExecuteTime": {
     "end_time": "2025-09-14T20:40:42.013324Z",
     "start_time": "2025-09-14T20:40:42.008920Z"
    }
   },
   "cell_type": "markdown",
   "source": "### Another approach",
   "id": "a231ce6ba550d1dd"
  },
  {
   "metadata": {
    "ExecuteTime": {
     "end_time": "2025-09-14T20:40:47.370881Z",
     "start_time": "2025-09-14T20:40:47.364553Z"
    }
   },
   "cell_type": "code",
   "source": [
    "arr = [1,2,5,11,12,7]\n",
    "\n",
    "# idea: simply use inbuilt-max\n",
    "\"\"\"\n",
    "Tc -> O(n)\n",
    "Sc -> O(1)\n",
    "\"\"\"\n",
    "\n",
    "largest_elem = max(arr)\n",
    "print(largest_elem)"
   ],
   "id": "8a7bb4e189c1db2a",
   "outputs": [
    {
     "name": "stdout",
     "output_type": "stream",
     "text": [
      "12\n"
     ]
    }
   ],
   "execution_count": 24
  },
  {
   "metadata": {
    "ExecuteTime": {
     "end_time": "2025-09-14T20:42:03.388389Z",
     "start_time": "2025-09-14T20:42:03.384970Z"
    }
   },
   "cell_type": "markdown",
   "source": "### Another approach",
   "id": "7e261d65590d7e1f"
  },
  {
   "metadata": {
    "ExecuteTime": {
     "end_time": "2025-09-14T20:44:29.151958Z",
     "start_time": "2025-09-14T20:44:29.144473Z"
    }
   },
   "cell_type": "code",
   "source": [
    "arr = [1,2,5,11,12,7]\n",
    "\n",
    "# idea: sort first and then return last elem\n",
    "\"\"\"\n",
    "Tc -> O(nlogn)\n",
    "Sc -> O(1)\n",
    "\"\"\"\n",
    "\n",
    "arr.sort()\n",
    "print(\"last elem after sorting is largest: \", arr[-1])\n",
    "\n"
   ],
   "id": "1d29228217b697c4",
   "outputs": [
    {
     "name": "stdout",
     "output_type": "stream",
     "text": [
      "last elem after sorting is largest:  12\n"
     ]
    }
   ],
   "execution_count": 29
  },
  {
   "metadata": {},
   "cell_type": "code",
   "outputs": [],
   "execution_count": null,
   "source": "",
   "id": "1caa6927e1e8b046"
  }
 ],
 "metadata": {
  "kernelspec": {
   "display_name": "Python 3",
   "language": "python",
   "name": "python3"
  },
  "language_info": {
   "codemirror_mode": {
    "name": "ipython",
    "version": 3
   },
   "file_extension": ".py",
   "mimetype": "text/x-python",
   "name": "python",
   "nbconvert_exporter": "python",
   "pygments_lexer": "ipython3",
   "version": "3.13.7"
  }
 },
 "nbformat": 4,
 "nbformat_minor": 5
}
